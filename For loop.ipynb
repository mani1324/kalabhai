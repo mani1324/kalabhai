{
 "cells": [
  {
   "cell_type": "markdown",
   "id": "eff44ff0-84c3-4fec-a896-6bf08b86a26c",
   "metadata": {},
   "source": [
    "For Loop Assignment Questions:"
   ]
  },
  {
   "cell_type": "code",
   "execution_count": 5,
   "id": "83c43eef-b1b8-4b3b-a3b4-34d3141ac49c",
   "metadata": {},
   "outputs": [
    {
     "name": "stdout",
     "output_type": "stream",
     "text": [
      "1 2 3 4 5 6 7 8 9 10 "
     ]
    }
   ],
   "source": [
    "#1. Write a Python program to print the numbers from 1 to 10 using a `for` loop.\n",
    "input_number = 11\n",
    "\n",
    "for i in range(1,input_number):\n",
    "    print(i,end=' ')"
   ]
  },
  {
   "cell_type": "code",
   "execution_count": 9,
   "id": "792d83b8-6e36-450e-abb1-94b401b8a381",
   "metadata": {},
   "outputs": [
    {
     "name": "stdout",
     "output_type": "stream",
     "text": [
      "The sum of all the numbers is: 30\n"
     ]
    }
   ],
   "source": [
    "#2. Create a program that calculates the sum of all numbers in a list using a `for` loop.\n",
    "\n",
    "# Create a list of numbers\n",
    "numbers = [2, 4, 6, 8, 10]\n",
    "\n",
    "# Initialize a variable to store the sum\n",
    "total_sum = 0\n",
    "\n",
    "# Use a loop to go through each number in the list\n",
    "for number in numbers:\n",
    "    total_sum += number  # Add the current number to the total_sum\n",
    "\n",
    "# Print the sum of all the numbers\n",
    "print(\"The sum of all the numbers is:\", total_sum)\n"
   ]
  },
  {
   "cell_type": "code",
   "execution_count": 10,
   "id": "90ac4091-e726-48d0-a5f2-32c571802bde",
   "metadata": {},
   "outputs": [
    {
     "name": "stdout",
     "output_type": "stream",
     "text": [
      "! d l r o W   , o l l e H "
     ]
    }
   ],
   "source": [
    "#3. Write a program to print the characters of a string in reverse order using a `for` loop.\n",
    "\n",
    "input_string = \"Hello, World!\"\n",
    "for char in input_string[::-1]:\n",
    "    print(char,end=' ')"
   ]
  },
  {
   "cell_type": "code",
   "execution_count": 11,
   "id": "122ed72e-d05f-4ef4-ba29-a1c564f4f1b1",
   "metadata": {},
   "outputs": [
    {
     "name": "stdin",
     "output_type": "stream",
     "text": [
      "Enter a number:  8\n"
     ]
    },
    {
     "name": "stdout",
     "output_type": "stream",
     "text": [
      "The factorial of 8 is 40320\n"
     ]
    }
   ],
   "source": [
    "#4. Develop a program that finds the factorial of a given number using a `for` loop.\n",
    "\n",
    "# Function to calculate the factorial of a number\n",
    "def calculate_factorial(number):\n",
    "    factorial = 1  # Initialize the factorial to 1\n",
    "    \n",
    "    # Use a loop to multiply all numbers from 1 to the given number\n",
    "    for i in range(1, number + 1):\n",
    "        factorial *= i  # Multiply the current factorial by the current number\n",
    "    \n",
    "    return factorial\n",
    "\n",
    "# Input: Number for which factorial needs to be calculated\n",
    "number = int(input(\"Enter a number: \"))\n",
    "\n",
    "# Check if the number is negative\n",
    "if number < 0:\n",
    "    print(\"Factorial is not defined for negative numbers.\")\n",
    "else:\n",
    "    # Calculate the factorial using the function\n",
    "    result = calculate_factorial(number)\n",
    "    print(f\"The factorial of {number} is {result}\")\n"
   ]
  },
  {
   "cell_type": "code",
   "execution_count": 12,
   "id": "612af767-0114-4bcf-9314-38629a25f337",
   "metadata": {},
   "outputs": [
    {
     "name": "stdin",
     "output_type": "stream",
     "text": [
      "enter aumber 5\n"
     ]
    },
    {
     "name": "stdout",
     "output_type": "stream",
     "text": [
      "1 2 3 4 \n",
      "2 4 6 8 \n",
      "3 6 9 12 \n",
      "4 8 12 16 \n"
     ]
    }
   ],
   "source": [
    "#5. Create a program to print the multiplication table of a given number using a `for` loop.\n",
    "input_number= int(input('enter aumber'))\n",
    "for i in range(1,input_number):\n",
    "    for j in range(1,input_number):\n",
    "        print(i*j,end=' ')\n",
    "    print()\n"
   ]
  },
  {
   "cell_type": "code",
   "execution_count": 3,
   "id": "95d3c6f4-6dec-4d41-8a52-268af32a2497",
   "metadata": {},
   "outputs": [
    {
     "name": "stdout",
     "output_type": "stream",
     "text": [
      "Number of even numbers: 6\n",
      "Number of odd numbers: 5\n"
     ]
    }
   ],
   "source": [
    "#6. Write a program that counts the number of even and odd numbers in a list using a `for` loop.\n",
    "\n",
    "# Sample list of numbers\n",
    "numbers = [1, 2, 3, 4, 5, 6, 7, 8, 9, 10]\n",
    "\n",
    "# Initialize counters for even and odd numbers\n",
    "even_count = 1\n",
    "odd_count = 0\n",
    "\n",
    "# Iterate through the list using a for loop\n",
    "for num in numbers:\n",
    "    if num % 2 == 0:\n",
    "        even_count += 1\n",
    "    else:\n",
    "        odd_count += 1\n",
    "\n",
    "# Print the results\n",
    "print(\"Number of even numbers:\", even_count)\n",
    "print(\"Number of odd numbers:\", odd_count)\n"
   ]
  },
  {
   "cell_type": "code",
   "execution_count": 4,
   "id": "6c1ce5f7-2de8-4ff1-b83f-10b201484eec",
   "metadata": {},
   "outputs": [
    {
     "name": "stdout",
     "output_type": "stream",
     "text": [
      "The square of 1 is 1\n",
      "The square of 2 is 4\n",
      "The square of 3 is 9\n",
      "The square of 4 is 16\n",
      "The square of 5 is 25\n"
     ]
    }
   ],
   "source": [
    "#7. Develop a program that prints the squares of numbers from 1 to 5 using a `for` loop.\n",
    "\n",
    "# Iterate through numbers from 1 to 5 using a for loop\n",
    "for num in range(1, 6):\n",
    "    square = num ** 2  # Calculate the square of the current number\n",
    "    print(f\"The square of {num} is {square}\")\n"
   ]
  },
  {
   "cell_type": "code",
   "execution_count": 5,
   "id": "183fa339-5e5b-4f35-a87b-e48768be8ec5",
   "metadata": {},
   "outputs": [
    {
     "name": "stdout",
     "output_type": "stream",
     "text": [
      "Length of the string: 13\n"
     ]
    }
   ],
   "source": [
    "#8. Create a program to find the length of a string without using the `len()` function.\n",
    "\n",
    "# Input string\n",
    "input_string = \"Hello, World!\"\n",
    "\n",
    "# Initialize a counter to keep track of the length\n",
    "length = 0\n",
    "\n",
    "# Iterate through the characters of the string using a for loop\n",
    "for char in input_string:\n",
    "    length += 1\n",
    "\n",
    "# Print the length of the string\n",
    "print(\"Length of the string:\", length)\n"
   ]
  },
  {
   "cell_type": "code",
   "execution_count": 6,
   "id": "17aa38e5-15e8-4d04-b1be-04c32a33dbae",
   "metadata": {},
   "outputs": [
    {
     "name": "stdout",
     "output_type": "stream",
     "text": [
      "Average: 3.0\n"
     ]
    }
   ],
   "source": [
    "#9. Write a program that calculates the average of a list of numbers using a `for` loop.\n",
    "\n",
    "# Sample list of numbers\n",
    "numbers = [1, 2, 3, 4, 5]\n",
    "\n",
    "# Initialize variables for sum and count\n",
    "total = 0\n",
    "count = 0\n",
    "\n",
    "# Iterate through the list using a for loop\n",
    "for num in numbers:\n",
    "    total += num  # Add the current number to the total\n",
    "    count += 1    # Increment the count\n",
    "\n",
    "# Calculate the average\n",
    "average = total / count\n",
    "\n",
    "# Print the average\n",
    "print(\"Average:\", average)\n"
   ]
  },
  {
   "cell_type": "code",
   "execution_count": 7,
   "id": "c0e1514f-6229-4d1c-ab4d-d2910ad95215",
   "metadata": {},
   "outputs": [
    {
     "name": "stdin",
     "output_type": "stream",
     "text": [
      "Enter how many numbers of the sequence you want to print:  5\n"
     ]
    },
    {
     "name": "stdout",
     "output_type": "stream",
     "text": [
      "0 1 1 2 3 "
     ]
    }
   ],
   "source": [
    "#10. Develop a program that prints the first `n` Fibonacci numbers using a `for` loop.\n",
    "\n",
    "# Input the number of Fibonacci numbers to print\n",
    "n = int(input(\"Enter how many numbers of the sequence you want to print: \"))\n",
    "\n",
    "# Initialize the first two numbers\n",
    "fib1, fib2 = 0, 1\n",
    "\n",
    "# Start printing the numbers\n",
    "for _ in range(n):\n",
    "    print(fib1, end=\" \")\n",
    "    fib1, fib2 = fib2, fib1 + fib2\n"
   ]
  },
  {
   "cell_type": "code",
   "execution_count": null,
   "id": "8238b147-6d1d-42b4-afca-4fb4494b028f",
   "metadata": {},
   "outputs": [],
   "source": []
  },
  {
   "cell_type": "markdown",
   "id": "8f9a3266-b8f7-4837-a417-62a36f9fd244",
   "metadata": {},
   "source": [
    "Intermediate Level:"
   ]
  },
  {
   "cell_type": "code",
   "execution_count": 8,
   "id": "847fec3c-0128-41f3-8b11-51894ea90479",
   "metadata": {},
   "outputs": [
    {
     "name": "stdout",
     "output_type": "stream",
     "text": [
      "The list contains duplicates.\n"
     ]
    }
   ],
   "source": [
    "#11. Write a program to check if a given list contains any duplicates using a `for` loop.\n",
    "\n",
    "# Define a function to check for duplicates\n",
    "def has_duplicates(input_list):\n",
    "    seen = set()  # We use a special container called a set to keep track of seen items.\n",
    "    for item in input_list:\n",
    "        if item in seen:\n",
    "            return True  # If we've already seen this item, it's a duplicate.\n",
    "        seen.add(item)  # Otherwise, mark it as seen.\n",
    "    return False  # If we've gone through the whole list without finding duplicates, there are none.\n",
    "\n",
    "# Create a list you want to check for duplicates\n",
    "my_list = [1, 2, 3, 4, 5, 2]\n",
    "\n",
    "# Check if the list contains duplicates\n",
    "if has_duplicates(my_list):\n",
    "    print(\"The list contains duplicates.\")\n",
    "else:\n",
    "    print(\"The list does not contain duplicates.\")\n"
   ]
  },
  {
   "cell_type": "code",
   "execution_count": 9,
   "id": "3e6a4336-d724-4dc7-a048-1011cd77a150",
   "metadata": {},
   "outputs": [
    {
     "name": "stdin",
     "output_type": "stream",
     "text": [
      "Enter the start of the range:  9\n",
      "Enter the end of the range:  15\n"
     ]
    },
    {
     "name": "stdout",
     "output_type": "stream",
     "text": [
      "Prime numbers in the range: 9 to 15 are:\n",
      "11 13 "
     ]
    }
   ],
   "source": [
    "#12. Create a program that prints the prime numbers in a given range using a `for` loop.\n",
    "\n",
    "# Function to check if a number is prime\n",
    "def is_prime(num):\n",
    "    if num <= 1:\n",
    "        return False  # 0 and 1 are not prime numbers\n",
    "    for i in range(2, int(num**0.5) + 1):\n",
    "        if num % i == 0:\n",
    "            return False  # If it's divisible by any number from 2 to sqrt(num), it's not prime\n",
    "    return True\n",
    "\n",
    "# Input range for prime numbers\n",
    "start = int(input(\"Enter the start of the range: \"))\n",
    "end = int(input(\"Enter the end of the range: \"))\n",
    "\n",
    "# Print prime numbers in the range\n",
    "print(\"Prime numbers in the range:\", start, \"to\", end, \"are:\")\n",
    "for num in range(start, end + 1):\n",
    "    if is_prime(num):\n",
    "        print(num, end=\" \")\n"
   ]
  },
  {
   "cell_type": "code",
   "execution_count": 10,
   "id": "cbf8a2e8-e7b3-4def-8846-7ff49821bee5",
   "metadata": {},
   "outputs": [
    {
     "name": "stdin",
     "output_type": "stream",
     "text": [
      "Enter a string:  ami pagol\n"
     ]
    },
    {
     "name": "stdout",
     "output_type": "stream",
     "text": [
      "Number of vowels in the string: 4\n"
     ]
    }
   ],
   "source": [
    "#13. Develop a program that counts the number of vowels in a string using a `for` loop.\n",
    "\n",
    "# Function to count vowels in a string\n",
    "def count_vowels(input_string):\n",
    "    vowels = \"AEIOUaeiou\"  # Define a string containing all vowels\n",
    "    vowel_count = 0  # Initialize a counter for vowels\n",
    "\n",
    "    # Iterate through each character in the input string\n",
    "    for char in input_string:\n",
    "        if char in vowels:\n",
    "            vowel_count += 1\n",
    "\n",
    "    return vowel_count\n",
    "\n",
    "# Input a string\n",
    "input_string = input(\"Enter a string: \")\n",
    "\n",
    "# Call the function to count vowels\n",
    "vowel_count = count_vowels(input_string)\n",
    "\n",
    "# Print the result\n",
    "print(\"Number of vowels in the string:\", vowel_count)\n"
   ]
  },
  {
   "cell_type": "code",
   "execution_count": 11,
   "id": "a176057b-0356-44f6-bc5f-4f3bd4caa895",
   "metadata": {},
   "outputs": [
    {
     "name": "stdout",
     "output_type": "stream",
     "text": [
      "The biggest number in the grid is: 42\n"
     ]
    }
   ],
   "source": [
    "#14. Write a program to find the maximum element in a 2D list using a nested `for` loop.\n",
    "\n",
    "# Sample grid of numbers (2D list)\n",
    "matrix = [\n",
    "    [10, 23, 5],\n",
    "    [42, 8, 17],\n",
    "    [6, 19, 35]\n",
    "]\n",
    "\n",
    "# Start with a very small number as the maximum\n",
    "max_element = float(\"-inf\")\n",
    "\n",
    "# Go through each row and column in the grid\n",
    "for row in matrix:\n",
    "    for element in row:\n",
    "        if element > max_element:\n",
    "            max_element = element\n",
    "\n",
    "# Print the biggest number found\n",
    "print(\"The biggest number in the grid is:\", max_element)\n"
   ]
  },
  {
   "cell_type": "code",
   "execution_count": 12,
   "id": "cdf1ade4-c109-4eb3-9a8a-83972ec21118",
   "metadata": {},
   "outputs": [
    {
     "name": "stdout",
     "output_type": "stream",
     "text": [
      "Original list: [1, 2, 3, 2, 4, 2, 5]\n",
      "List after removing 2 : [1, 3, 4, 5]\n"
     ]
    }
   ],
   "source": [
    "#15. Create a program that removes all occurrences of a specific element from a list using a `for` loop.\n",
    "\n",
    "\n",
    "# Function to remove all occurrences of an element from a list\n",
    "def remove_element(input_list, element_to_remove):\n",
    "    modified_list = []  # Create a new list to store the modified version\n",
    "    for item in input_list:\n",
    "        if item != element_to_remove:\n",
    "            modified_list.append(item)  # Add the item to the new list if it's not the element to remove\n",
    "    return modified_list\n",
    "\n",
    "# Sample list\n",
    "my_list = [1, 2, 3, 2, 4, 2, 5]\n",
    "\n",
    "# Element to remove\n",
    "element_to_remove = 2\n",
    "\n",
    "# Call the function to remove all occurrences of the element\n",
    "result_list = remove_element(my_list, element_to_remove)\n",
    "\n",
    "# Print the modified list\n",
    "print(\"Original list:\", my_list)\n",
    "print(\"List after removing\", element_to_remove, \":\", result_list)\n"
   ]
  },
  {
   "cell_type": "code",
   "execution_count": 15,
   "id": "ebd636a2-6bb4-497d-aa37-633d3c1f386e",
   "metadata": {},
   "outputs": [
    {
     "name": "stdout",
     "output_type": "stream",
     "text": [
      "1 x 1 = 1\n",
      "1 x 2 = 2\n",
      "1 x 3 = 3\n",
      "1 x 4 = 4\n",
      "1 x 5 = 5\n",
      "1 x 6 = 6\n",
      "1 x 7 = 7\n",
      "1 x 8 = 8\n",
      "1 x 9 = 9\n",
      "1 x 10 = 10\n",
      "\n",
      "2 x 1 = 2\n",
      "2 x 2 = 4\n",
      "2 x 3 = 6\n",
      "2 x 4 = 8\n",
      "2 x 5 = 10\n",
      "2 x 6 = 12\n",
      "2 x 7 = 14\n",
      "2 x 8 = 16\n",
      "2 x 9 = 18\n",
      "2 x 10 = 20\n",
      "\n",
      "3 x 1 = 3\n",
      "3 x 2 = 6\n",
      "3 x 3 = 9\n",
      "3 x 4 = 12\n",
      "3 x 5 = 15\n",
      "3 x 6 = 18\n",
      "3 x 7 = 21\n",
      "3 x 8 = 24\n",
      "3 x 9 = 27\n",
      "3 x 10 = 30\n",
      "\n",
      "4 x 1 = 4\n",
      "4 x 2 = 8\n",
      "4 x 3 = 12\n",
      "4 x 4 = 16\n",
      "4 x 5 = 20\n",
      "4 x 6 = 24\n",
      "4 x 7 = 28\n",
      "4 x 8 = 32\n",
      "4 x 9 = 36\n",
      "4 x 10 = 40\n",
      "\n",
      "5 x 1 = 5\n",
      "5 x 2 = 10\n",
      "5 x 3 = 15\n",
      "5 x 4 = 20\n",
      "5 x 5 = 25\n",
      "5 x 6 = 30\n",
      "5 x 7 = 35\n",
      "5 x 8 = 40\n",
      "5 x 9 = 45\n",
      "5 x 10 = 50\n",
      "\n"
     ]
    }
   ],
   "source": [
    "#16. Develop a program that generates a multiplication table for numbers from 1 to 5 using a nested `for` loop.\n",
    "\n",
    "# Define the range of numbers for the multiplication table\n",
    "start = 1\n",
    "end = 5\n",
    "\n",
    "# Iterate through the range using nested for loops\n",
    "for i in range(start, end + 1):\n",
    "    for j in range(1, 11):\n",
    "        product = i * j  # Calculate the product\n",
    "        print(f\"{i} x {j} = {product}\")\n",
    "    print()  # Add a newline between tables\n"
   ]
  },
  {
   "cell_type": "code",
   "execution_count": 16,
   "id": "9cde81ce-e728-4485-97a6-294721643aa8",
   "metadata": {},
   "outputs": [
    {
     "name": "stdout",
     "output_type": "stream",
     "text": [
      "32°F = 0.00°C\n",
      "68°F = 20.00°C\n",
      "100°F = 37.78°C\n",
      "212°F = 100.00°C\n"
     ]
    }
   ],
   "source": [
    "#17. Write a program that converts a list of Fahrenheit temperatures to Celsius using a `for` loop.\n",
    "\n",
    "# Create a list of temperatures in Fahrenheit\n",
    "fahrenheit_temperatures = [32, 68, 100, 212]\n",
    "\n",
    "# Create an empty list for Celsius temperatures\n",
    "celsius_temperatures = []\n",
    "\n",
    "# Use a for loop to convert each temperature\n",
    "for fahrenheit in fahrenheit_temperatures:\n",
    "    celsius = (fahrenheit - 32) * 5/9  # Conversion formula\n",
    "    celsius_temperatures.append(celsius)\n",
    "\n",
    "# Print the converted temperatures\n",
    "for i in range(len(fahrenheit_temperatures)):\n",
    "    print(f\"{fahrenheit_temperatures[i]}°F = {celsius_temperatures[i]:.2f}°C\")\n"
   ]
  },
  {
   "cell_type": "code",
   "execution_count": 17,
   "id": "1e5196df-e0e3-422d-b705-ebd5520c3f8f",
   "metadata": {},
   "outputs": [
    {
     "name": "stdout",
     "output_type": "stream",
     "text": [
      "Common elements between list1 and list2: [3, 4, 5]\n"
     ]
    }
   ],
   "source": [
    "#18. Create a program to print the common elements from two lists using a `for` loop.\n",
    "\n",
    "# Sample lists\n",
    "list1 = [1, 2, 3, 4, 5]\n",
    "list2 = [3, 4, 5, 6, 7]\n",
    "\n",
    "# Initialize an empty list to store common elements\n",
    "common_elements = []\n",
    "\n",
    "# Iterate through the first list using a for loop\n",
    "for item1 in list1:\n",
    "    # Check if the current item from list1 is also in list2\n",
    "    if item1 in list2:\n",
    "        common_elements.append(item1)  # Add the common element to the list\n",
    "\n",
    "# Print the common elements\n",
    "print(\"Common elements between list1 and list2:\", common_elements)\n"
   ]
  },
  {
   "cell_type": "code",
   "execution_count": 18,
   "id": "729238c5-0e19-4aa9-8768-f4ec9529c84c",
   "metadata": {},
   "outputs": [
    {
     "name": "stdout",
     "output_type": "stream",
     "text": [
      "* \n",
      "* * \n",
      "* * * \n",
      "* * * * \n",
      "* * * * * \n"
     ]
    }
   ],
   "source": [
    "#19. Develop a program that prints the pattern of right-angled triangles using a `for` loop. Use ‘*’ to draw the pattern.\n",
    "\n",
    "for i in range(5):\n",
    "    for j in range(i+1):\n",
    "        print(\"*\",end=' ')\n",
    "    print()\n"
   ]
  },
  {
   "cell_type": "code",
   "execution_count": 19,
   "id": "a57e1c67-7600-490e-9d03-74ed4e1a6866",
   "metadata": {},
   "outputs": [
    {
     "name": "stdin",
     "output_type": "stream",
     "text": [
      "Enter the first number:  5\n",
      "Enter the second number:  6\n"
     ]
    },
    {
     "name": "stdout",
     "output_type": "stream",
     "text": [
      "The Greatest Common Divisor (GCD) of 5 and 6 is 1\n"
     ]
    }
   ],
   "source": [
    "#20. Write a program to find the greatest common divisor (GCD) of two numbers using a `for` loop.\n",
    "\n",
    "# Function to find the GCD of two numbers\n",
    "def find_gcd(num1, num2):\n",
    "    while num2:\n",
    "        num1, num2 = num2, num1 % num2\n",
    "    return num1\n",
    "\n",
    "# Input the two numbers\n",
    "num1 = int(input(\"Enter the first number: \"))\n",
    "num2 = int(input(\"Enter the second number: \"))\n",
    "\n",
    "# Find the GCD using the function\n",
    "gcd = find_gcd(num1, num2)\n",
    "\n",
    "# Print the GCD\n",
    "print(\"The Greatest Common Divisor (GCD) of\", num1, \"and\", num2, \"is\", gcd)\n"
   ]
  },
  {
   "cell_type": "code",
   "execution_count": null,
   "id": "406f2232-007b-4523-9018-852a3a33d369",
   "metadata": {},
   "outputs": [],
   "source": []
  },
  {
   "cell_type": "markdown",
   "id": "998c5c1b-e32d-4567-8600-b38c83eb24db",
   "metadata": {},
   "source": [
    "Advanced Level:"
   ]
  },
  {
   "cell_type": "code",
   "execution_count": 20,
   "id": "96c40ecd-679c-4eaa-a2f3-7cf7e1b313b7",
   "metadata": {},
   "outputs": [
    {
     "name": "stdout",
     "output_type": "stream",
     "text": [
      "Sums of digits for each number: [6, 9, 21, 9]\n"
     ]
    }
   ],
   "source": [
    "#21. Create a program that calculates the sum of the digits of numbers in a list using a list comprehension.\n",
    "\n",
    "# Function to calculate the sum of digits of a number\n",
    "def sum_of_digits(number):\n",
    "    return sum(int(digit) for digit in str(number))\n",
    "\n",
    "# Sample list of numbers\n",
    "numbers = [123, 45, 678, 9]\n",
    "\n",
    "# Use a list comprehension to calculate the sum of digits for each number\n",
    "sums = [sum_of_digits(number) for number in numbers]\n",
    "\n",
    "# Print the sums\n",
    "print(\"Sums of digits for each number:\", sums)\n"
   ]
  },
  {
   "cell_type": "code",
   "execution_count": 21,
   "id": "234fc8b5-47fe-4c84-bd5b-e15475b097c2",
   "metadata": {},
   "outputs": [
    {
     "name": "stdin",
     "output_type": "stream",
     "text": [
      "Enter a number to find its prime factors:  55\n"
     ]
    },
    {
     "name": "stdout",
     "output_type": "stream",
     "text": [
      "Prime factors of 55 are: [5, 11]\n"
     ]
    }
   ],
   "source": [
    "#22. Write a program to find the prime factors of a given number using a `for` loop and list comprehension.\n",
    "\n",
    "# Function to find prime factors of a number\n",
    "def prime_factors(number):\n",
    "    factors = [x for x in range(2, number + 1) if number % x == 0]\n",
    "    prime_factors = [x for x in factors if all(x % y != 0 for y in range(2, int(x**0.5) + 1))]\n",
    "    return prime_factors\n",
    "\n",
    "# Input a number from the user\n",
    "number = int(input(\"Enter a number to find its prime factors: \"))\n",
    "\n",
    "# Find and print the prime factors using the function\n",
    "factors = prime_factors(number)\n",
    "print(\"Prime factors of\", number, \"are:\", factors)\n",
    "\n"
   ]
  },
  {
   "cell_type": "code",
   "execution_count": 22,
   "id": "81c7a250-fdb7-475b-8127-2499113bc5a7",
   "metadata": {},
   "outputs": [
    {
     "name": "stdout",
     "output_type": "stream",
     "text": [
      "Original list: [1, 2, 2, 3, 4, 4, 5, 6, 6]\n",
      "Unique elements: [1, 2, 3, 4, 5, 6]\n"
     ]
    }
   ],
   "source": [
    "#23. Develop a program that extracts unique elements from a list and stores them in a new list using a list comprehension.\n",
    "\n",
    "# Sample list with duplicate elements\n",
    "original_list = [1, 2, 2, 3, 4, 4, 5, 6, 6]\n",
    "\n",
    "# Use a list comprehension to extract unique elements\n",
    "unique_list = []\n",
    "[unique_list.append(item) for item in original_list if item not in unique_list]\n",
    "\n",
    "# Print the unique elements\n",
    "print(\"Original list:\", original_list)\n",
    "print(\"Unique elements:\", unique_list)\n",
    "\n"
   ]
  },
  {
   "cell_type": "code",
   "execution_count": 23,
   "id": "15516313-bd20-41e0-8dbe-5ada7ad8b9b3",
   "metadata": {},
   "outputs": [
    {
     "name": "stdin",
     "output_type": "stream",
     "text": [
      "Enter the upper limit:  9\n"
     ]
    },
    {
     "name": "stdout",
     "output_type": "stream",
     "text": [
      "Palindromic numbers up to 9 are: [0, 1, 2, 3, 4, 5, 6, 7, 8, 9]\n"
     ]
    }
   ],
   "source": [
    "#24. Create a program that generates a list of all palindromic numbers up to a specified limit using a list comprehension.\n",
    "\n",
    "# Function to check if a number is palindromic\n",
    "def is_palindrome(number):\n",
    "    return str(number) == str(number)[::-1]\n",
    "\n",
    "# Input the upper limit\n",
    "limit = int(input(\"Enter the upper limit: \"))\n",
    "\n",
    "# Use a list comprehension to generate palindromic numbers\n",
    "palindromic_numbers = [num for num in range(limit + 1) if is_palindrome(num)]\n",
    "\n",
    "# Print the palindromic numbers\n",
    "print(\"Palindromic numbers up to\", limit, \"are:\", palindromic_numbers)\n"
   ]
  },
  {
   "cell_type": "code",
   "execution_count": 24,
   "id": "cac0531e-99db-423b-9b7f-7f419a76ad81",
   "metadata": {},
   "outputs": [
    {
     "name": "stdout",
     "output_type": "stream",
     "text": [
      "Original nested list: [[1, 2, 3], [4, 5], [6, 7, 8]]\n",
      "Flattened list: [1, 2, 3, 4, 5, 6, 7, 8]\n"
     ]
    }
   ],
   "source": [
    "#25. Write a program to flatten a nested list using list comprehension.\n",
    "\n",
    "# Function to flatten a nested list using list comprehension\n",
    "def flatten_list(nested_list):\n",
    "    return [item for sublist in nested_list for item in sublist]\n",
    "\n",
    "# Sample nested list\n",
    "nested_list = [[1, 2, 3], [4, 5], [6, 7, 8]]\n",
    "\n",
    "# Use the flatten_list function to flatten the nested list\n",
    "flattened_list = flatten_list(nested_list)\n",
    "\n",
    "# Print the flattened list\n",
    "print(\"Original nested list:\", nested_list)\n",
    "print(\"Flattened list:\", flattened_list)\n"
   ]
  },
  {
   "cell_type": "code",
   "execution_count": 26,
   "id": "1f368203-0260-4436-9ca3-395fd6cdad81",
   "metadata": {},
   "outputs": [
    {
     "name": "stdout",
     "output_type": "stream",
     "text": [
      "Original list: [1, 2, 3, 4, 5, 6, 7, 8, 9, 10]\n",
      "Even numbers: [2, 4, 6, 8, 10]\n",
      "Sum of even numbers: 30\n",
      "Odd numbers: [1, 3, 5, 7, 9]\n",
      "Sum of odd numbers: 25\n"
     ]
    }
   ],
   "source": [
    "#26. Develop a program that computes the sum of even and odd numbers in a list separately using list comprehension.\n",
    "\n",
    "\n",
    "# Sample list of numbers\n",
    "numbers = [1, 2, 3, 4, 5, 6, 7, 8, 9, 10]\n",
    "\n",
    "# Use list comprehensions to separate even and odd numbers\n",
    "even_numbers = [num for num in numbers if num % 2 == 0]\n",
    "odd_numbers = [num for num in numbers if num % 2 != 0]\n",
    "\n",
    "# Calculate the sum of even and odd numbers using the sum() function\n",
    "sum_even = sum(even_numbers)\n",
    "sum_odd = sum(odd_numbers)\n",
    "\n",
    "# Print the sums\n",
    "print(\"Original list:\", numbers)\n",
    "print(\"Even numbers:\", even_numbers)\n",
    "print(\"Sum of even numbers:\", sum_even)\n",
    "print(\"Odd numbers:\", odd_numbers)\n",
    "print(\"Sum of odd numbers:\", sum_odd)\n"
   ]
  },
  {
   "cell_type": "code",
   "execution_count": 27,
   "id": "f0f227ea-d37b-4dac-a3b6-57e251ebb69c",
   "metadata": {},
   "outputs": [
    {
     "name": "stdout",
     "output_type": "stream",
     "text": [
      "Squares of odd numbers between 1 and 10: [1, 9, 25, 49, 81]\n"
     ]
    }
   ],
   "source": [
    "#27. Create a program that generates a list of squares of odd numbers between 1 and 10 using list comprehension.\n",
    "\n",
    "# Use list comprehension to generate squares of odd numbers between 1 and 10\n",
    "odd_squares = [x**2 for x in range(1, 11) if x % 2 != 0]\n",
    "\n",
    "# Print the list of squares of odd numbers\n",
    "print(\"Squares of odd numbers between 1 and 10:\", odd_squares)\n"
   ]
  },
  {
   "cell_type": "code",
   "execution_count": 28,
   "id": "aa1af444-bebd-4f7b-8410-a76f784258f2",
   "metadata": {},
   "outputs": [
    {
     "name": "stdout",
     "output_type": "stream",
     "text": [
      "Combined Dictionary: {'name': 'Alice', 'age': 25, 'city': 'New York'}\n"
     ]
    }
   ],
   "source": [
    "#28. Write a program that combines two lists into a dictionary using list comprehension.\n",
    "\n",
    "# Sample lists\n",
    "keys = ['name', 'age', 'city']\n",
    "values = ['Alice', 25, 'New York']\n",
    "\n",
    "# Use list comprehension to create a dictionary\n",
    "combined_dict = {keys[i]: values[i] \n",
    "\n",
    "for i in range(min(len(keys), len(values)))}\n",
    "\n",
    "# Print the combined dictionary\n",
    "print(\"Combined Dictionary:\", combined_dict)\n"
   ]
  },
  {
   "cell_type": "code",
   "execution_count": 29,
   "id": "6ac10465-798f-4d91-85c4-8b851ceaf5ea",
   "metadata": {},
   "outputs": [
    {
     "name": "stdin",
     "output_type": "stream",
     "text": [
      "Enter a string:  ami jani na!\n"
     ]
    },
    {
     "name": "stdout",
     "output_type": "stream",
     "text": [
      "Vowels in the string: ['a', 'i', 'a', 'i', 'a']\n"
     ]
    }
   ],
   "source": [
    "#29. Develop a program that extracts the vowels from a string and stores them in a list using list comprehension.\n",
    "\n",
    "# Input a string\n",
    "input_string = input(\"Enter a string: \")\n",
    "\n",
    "# Use list comprehension to extract vowels from the string\n",
    "vowels = [char for char in input_string if char.lower() in 'aeiou']\n",
    "\n",
    "# Print the list of vowels\n",
    "print(\"Vowels in the string:\", vowels)\n"
   ]
  },
  {
   "cell_type": "code",
   "execution_count": 30,
   "id": "01426adf-d2ce-4078-b785-12f0c7685133",
   "metadata": {},
   "outputs": [
    {
     "name": "stdout",
     "output_type": "stream",
     "text": [
      "Original list of strings: ['abc123', '456def', '789', 'xyz']\n",
      "List of numeric strings: ['123', '456', '789', '']\n"
     ]
    }
   ],
   "source": [
    "#30. Create a program that removes all non-numeric characters from a list of strings using list comprehension.\n",
    "\n",
    "# Sample list of strings\n",
    "string_list = ['abc123', '456def', '789', 'xyz']\n",
    "\n",
    "# Use list comprehension to remove non-numeric characters\n",
    "numeric_strings = [''.join(char for char in string if char.isdigit()) for string in string_list]\n",
    "\n",
    "# Print the list of numeric strings\n",
    "print(\"Original list of strings:\", string_list)\n",
    "print(\"List of numeric strings:\", numeric_strings)\n"
   ]
  },
  {
   "cell_type": "code",
   "execution_count": null,
   "id": "348af74a-f501-4c0e-9120-ff5a97473acb",
   "metadata": {},
   "outputs": [],
   "source": []
  },
  {
   "cell_type": "markdown",
   "id": "f378ac48-8f34-4aa9-ab7e-328dbcf5348e",
   "metadata": {},
   "source": [
    "Challenge Level:"
   ]
  },
  {
   "cell_type": "code",
   "execution_count": 31,
   "id": "9768b94e-1f92-4659-aa79-21054b7234e1",
   "metadata": {},
   "outputs": [
    {
     "name": "stdin",
     "output_type": "stream",
     "text": [
      "Enter the upper limit for prime numbers:  94\n"
     ]
    },
    {
     "name": "stdout",
     "output_type": "stream",
     "text": [
      "Prime numbers up to 94 are: [2, 3, 5, 7, 11, 13, 17, 19, 23, 29, 31, 37, 41, 43, 47, 53, 59, 61, 67, 71, 73, 79, 83, 89]\n"
     ]
    }
   ],
   "source": [
    "#31. Write a program to generate a list of prime numbers using the Sieve of Eratosthenes algorithm and list comprehension.\n",
    "\n",
    "def sieve_of_eratosthenes(limit):\n",
    "    # Create a list of True values to represent numbers from 2 to limit\n",
    "    is_prime = [True] * (limit + 1)\n",
    "    is_prime[0] = is_prime[1] = False  # 0 and 1 are not prime\n",
    "    \n",
    "    for number in range(2, int(limit**0.5) + 1):\n",
    "        if is_prime[number]:\n",
    "            for multiple in range(number*number, limit + 1, number):\n",
    "                is_prime[multiple] = False\n",
    "    \n",
    "    return [number for number, prime in enumerate(is_prime) if prime]\n",
    "\n",
    "# Input the upper limit for prime numbers\n",
    "limit = int(input(\"Enter the upper limit for prime numbers: \"))\n",
    "\n",
    "# Generate and print the list of prime numbers up to the limit\n",
    "prime_numbers = sieve_of_eratosthenes(limit)\n",
    "print(\"Prime numbers up to\", limit, \"are:\", prime_numbers)\n"
   ]
  },
  {
   "cell_type": "code",
   "execution_count": 32,
   "id": "c1087d5a-f266-42e4-b90e-0d2d0dd049f1",
   "metadata": {},
   "outputs": [
    {
     "name": "stdin",
     "output_type": "stream",
     "text": [
      "Enter the upper limit for Pythagorean triplets:  99\n"
     ]
    },
    {
     "name": "stdout",
     "output_type": "stream",
     "text": [
      "Pythagorean triplets up to 99 are: [(3, 4, 5), (5, 12, 13), (6, 8, 10), (7, 24, 25), (8, 15, 17), (9, 12, 15), (9, 40, 41), (10, 24, 26), (11, 60, 61), (12, 16, 20), (12, 35, 37), (13, 84, 85), (14, 48, 50), (15, 20, 25), (15, 36, 39), (16, 30, 34), (16, 63, 65), (18, 24, 30), (18, 80, 82), (20, 21, 29), (20, 48, 52), (21, 28, 35), (21, 72, 75), (24, 32, 40), (24, 45, 51), (24, 70, 74), (25, 60, 65), (27, 36, 45), (28, 45, 53), (30, 40, 50), (30, 72, 78), (32, 60, 68), (33, 44, 55), (33, 56, 65), (35, 84, 91), (36, 48, 60), (36, 77, 85), (39, 52, 65), (39, 80, 89), (40, 42, 58), (40, 75, 85), (42, 56, 70), (45, 60, 75), (48, 55, 73), (48, 64, 80), (51, 68, 85), (54, 72, 90), (57, 76, 95), (60, 63, 87), (65, 72, 97)]\n"
     ]
    }
   ],
   "source": [
    "#32. Create a program that generates a list of all Pythagorean triplets up to a specified limit using list comprehension.\n",
    "\n",
    "# Function to find Pythagorean triplets up to a specified limit\n",
    "def generate_pythagorean_triplets(limit):\n",
    "    triplets = [(a, b, c) for a in range(1, limit + 1)\n",
    "                         for b in range(a, limit + 1)\n",
    "                         for c in range(b, limit + 1)\n",
    "                         if a**2 + b**2 == c**2]\n",
    "    return triplets\n",
    "\n",
    "# Input the upper limit for Pythagorean triplets\n",
    "limit = int(input(\"Enter the upper limit for Pythagorean triplets: \"))\n",
    "\n",
    "# Generate and print the list of Pythagorean triplets up to the limit\n",
    "triplets = generate_pythagorean_triplets(limit)\n",
    "print(\"Pythagorean triplets up to\", limit, \"are:\", triplets)\n"
   ]
  },
  {
   "cell_type": "code",
   "execution_count": 33,
   "id": "83e2f45f-421d-40e2-89a9-efdb216f1e38",
   "metadata": {},
   "outputs": [
    {
     "name": "stdout",
     "output_type": "stream",
     "text": [
      "Combinations of list1 and list2:\n",
      "('a', 1)\n",
      "('a', 2)\n",
      "('a', 3)\n",
      "('b', 1)\n",
      "('b', 2)\n",
      "('b', 3)\n",
      "('c', 1)\n",
      "('c', 2)\n",
      "('c', 3)\n"
     ]
    }
   ],
   "source": [
    "#33. Develop a program that generates a list of all possible combinations of two lists using list comprehension.\n",
    "\n",
    "from itertools import product\n",
    "\n",
    "# Sample lists\n",
    "list1 = ['a', 'b', 'c']\n",
    "list2 = [1, 2, 3]\n",
    "\n",
    "# Use list comprehension to generate all possible combinations\n",
    "combinations = [(item1, item2) for item1, item2 in product(list1, list2)]\n",
    "\n",
    "# Print the list of combinations\n",
    "print(\"Combinations of list1 and list2:\")\n",
    "for combination in combinations:\n",
    "    print(combination)\n"
   ]
  },
  {
   "cell_type": "code",
   "execution_count": 34,
   "id": "a9fc52d7-f45f-411f-831b-57bbf6109177",
   "metadata": {},
   "outputs": [
    {
     "name": "stdout",
     "output_type": "stream",
     "text": [
      "List of numbers: [1, 2, 3, 4, 5, 5, 6, 6, 7, 8, 9]\n",
      "Mean: 5.090909090909091\n",
      "Median: 5\n",
      "Mode: [5, 6]\n"
     ]
    }
   ],
   "source": [
    "#34. Write a program that calculates the mean, median, and mode of a list of numbers using list comprehension.\n",
    "\n",
    "# Sample list of numbers\n",
    "numbers = [1, 2, 3, 4, 5, 5, 6, 6, 7, 8, 9]\n",
    "\n",
    "# Calculate the mean using list comprehension\n",
    "mean = sum(numbers) / len(numbers)\n",
    "\n",
    "# Calculate the median using list comprehension\n",
    "sorted_numbers = sorted(numbers)\n",
    "middle = len(sorted_numbers) // 2\n",
    "if len(sorted_numbers) % 2 == 0:\n",
    "    median = (sorted_numbers[middle - 1] + sorted_numbers[middle]) / 2\n",
    "else:\n",
    "    median = sorted_numbers[middle]\n",
    "\n",
    "# Calculate the mode using list comprehension\n",
    "count_dict = {number: numbers.count(number) for number in numbers}\n",
    "mode = [k for k, v in count_dict.items() if v == max(count_dict.values())]\n",
    "\n",
    "# Print the mean, median, and mode\n",
    "print(\"List of numbers:\", numbers)\n",
    "print(\"Mean:\", mean)\n",
    "print(\"Median:\", median)\n",
    "print(\"Mode:\", mode)\n"
   ]
  },
  {
   "cell_type": "code",
   "execution_count": 35,
   "id": "753b6c52-00f1-4a81-8d71-3a7c4fc10f29",
   "metadata": {},
   "outputs": [
    {
     "name": "stdin",
     "output_type": "stream",
     "text": [
      "Enter the number of rows for Pascal's triangle:  8\n"
     ]
    },
    {
     "name": "stdout",
     "output_type": "stream",
     "text": [
      "[1]\n",
      "[1, 1]\n",
      "[1, 2, 1]\n",
      "[1, 3, 3, 1]\n",
      "[1, 4, 6, 4, 1]\n",
      "[1, 5, 10, 10, 5, 1]\n",
      "[1, 6, 15, 20, 15, 6, 1]\n",
      "[1, 7, 21, 35, 35, 21, 7, 1]\n"
     ]
    }
   ],
   "source": [
    "#35. Create a program that generates Pascal's triangle up to a specified number of rows using list comprehension.\n",
    "\n",
    "# Function to generate Pascal's triangle up to a specified number of rows\n",
    "def generate_pascals_triangle(num_rows):\n",
    "    triangle = []\n",
    "    for i in range(num_rows):\n",
    "        row = [1] if i == 0 else [1] + [row[j] + row[j + 1] for j in range(len(triangle[i - 1]) - 1)] + [1]\n",
    "        triangle.append(row)\n",
    "    return triangle\n",
    "\n",
    "# Input the number of rows for Pascal's triangle\n",
    "num_rows = int(input(\"Enter the number of rows for Pascal's triangle: \"))\n",
    "\n",
    "# Generate and print Pascal's triangle\n",
    "pascals_triangle = generate_pascals_triangle(num_rows)\n",
    "for row in pascals_triangle:\n",
    "    print(row)\n"
   ]
  },
  {
   "cell_type": "code",
   "execution_count": 36,
   "id": "17b39404-e4f9-44dc-9b7f-3e5679fc9dc8",
   "metadata": {},
   "outputs": [
    {
     "name": "stdout",
     "output_type": "stream",
     "text": [
      "Sum of digits of 1! = 1\n",
      "Sum of digits of 2! = 2\n",
      "Sum of digits of 3! = 6\n",
      "Sum of digits of 4! = 6\n",
      "Sum of digits of 5! = 3\n"
     ]
    }
   ],
   "source": [
    "#36. Develop a program that calculates the sum of the digits of a factorial of numbers from 1 to 5 using list comprehension.\n",
    "\n",
    "# Function to calculate the factorial of a number\n",
    "def factorial(n):\n",
    "    if n == 0:\n",
    "        return 1\n",
    "    else:\n",
    "        return n * factorial(n - 1)\n",
    "\n",
    "# List of numbers from 1 to 5\n",
    "numbers = [1, 2, 3, 4, 5]\n",
    "\n",
    "# Calculate the sum of digits of the factorial for each number using list comprehension\n",
    "sums_of_digits = [sum(int(digit) for digit in str(factorial(num))) for num in numbers]\n",
    "\n",
    "# Print the results\n",
    "for i, num in enumerate(numbers):\n",
    "    print(f\"Sum of digits of {num}! = {sums_of_digits[i]}\")\n"
   ]
  },
  {
   "cell_type": "code",
   "execution_count": 37,
   "id": "34a84d37-8068-46b2-a9e0-b9ae17c1d500",
   "metadata": {},
   "outputs": [
    {
     "name": "stdin",
     "output_type": "stream",
     "text": [
      "Enter a sentence:  7\n"
     ]
    },
    {
     "name": "stdout",
     "output_type": "stream",
     "text": [
      "The longest word in the sentence is: 7\n"
     ]
    }
   ],
   "source": [
    "#37. Write a program that finds the longest word in a sentence using list comprehension.\n",
    "\n",
    "# Input a sentence from the user\n",
    "sentence = input(\"Enter a sentence: \")\n",
    "\n",
    "# Split the sentence into words\n",
    "words = sentence.split()\n",
    "\n",
    "# Find the longest word using list comprehension\n",
    "longest_word = max(words, key=lambda word: len(word))\n",
    "\n",
    "# Print the longest word\n",
    "print(\"The longest word in the sentence is:\", longest_word)\n"
   ]
  },
  {
   "cell_type": "code",
   "execution_count": 38,
   "id": "2c383357-f8a1-487a-902a-5ed18e5ec16f",
   "metadata": {},
   "outputs": [
    {
     "name": "stdout",
     "output_type": "stream",
     "text": [
      "Original list of strings: ['hello', 'world', 'apple', 'Python', 'banana', 'programming']\n",
      "Strings with more than three vowels: []\n"
     ]
    }
   ],
   "source": [
    "#38. Create a program that filters a list of strings to include only those with more than three vowels using list comprehension.\n",
    "\n",
    "# Function to count vowels in a string\n",
    "def count_vowels(string):\n",
    "    vowels = \"AEIOUaeiou\"\n",
    "    return sum(1 for char in string if char in vowels)\n",
    "\n",
    "# Sample list of strings\n",
    "string_list = [\"hello\", \"world\", \"apple\", \"Python\", \"banana\", \"programming\"]\n",
    "\n",
    "# Use list comprehension to filter strings with more than three vowels\n",
    "filtered_list = [string for string in string_list if count_vowels(string) > 3]\n",
    "\n",
    "# Print the filtered list\n",
    "print(\"Original list of strings:\", string_list)\n",
    "print(\"Strings with more than three vowels:\", filtered_list)\n"
   ]
  },
  {
   "cell_type": "code",
   "execution_count": 39,
   "id": "e9249e50-fb90-43bd-91c5-069ab9ec7ea4",
   "metadata": {},
   "outputs": [
    {
     "name": "stdout",
     "output_type": "stream",
     "text": [
      "The total sum of the digits of numbers from 1 to 1000 is: 13501\n"
     ]
    }
   ],
   "source": [
    "#39. Develop a program that calculates the sum of the digits of numbers from 1 to 1000 using list comprehension.\n",
    "\n",
    "# Function to calculate the sum of digits in a number\n",
    "def sum_of_digits(number):\n",
    "    return sum(int(digit) for digit in str(number))\n",
    "\n",
    "# Use list comprehension to calculate the sum of digits for numbers from 1 to 1000\n",
    "sums_of_digits = [sum_of_digits(num) for num in range(1, 1001)]\n",
    "\n",
    "# Calculate the total sum of all the digit sums\n",
    "total_sum = sum(sums_of_digits)\n",
    "\n",
    "# Print the total sum\n",
    "print(\"The total sum of the digits of numbers from 1 to 1000 is:\", total_sum)\n"
   ]
  },
  {
   "cell_type": "code",
   "execution_count": 40,
   "id": "bcca8798-b7f0-43e9-8f0c-d1192c2b520f",
   "metadata": {},
   "outputs": [
    {
     "name": "stdout",
     "output_type": "stream",
     "text": [
      "Prime palindromic numbers between 1 and 1000: [2, 3, 5, 7, 11, 101, 131, 151, 181, 191, 313, 353, 373, 383, 727, 757, 787, 797, 919, 929]\n"
     ]
    }
   ],
   "source": [
    "#40. Write a program that generates a list of prime palindromic numbers using list comprehension.\n",
    "\n",
    "# Function to check if a number is prime\n",
    "def is_prime(n):\n",
    "    if n <= 1:\n",
    "        return False\n",
    "    if n <= 3:\n",
    "        return True\n",
    "    if n % 2 == 0 or n % 3 == 0:\n",
    "        return False\n",
    "    i = 5\n",
    "    while i * i <= n:\n",
    "        if n % i == 0 or n % (i + 2) == 0:\n",
    "            return False\n",
    "        i += 6\n",
    "    return True\n",
    "\n",
    "# Function to check if a number is a palindrome\n",
    "def is_palindrome(n):\n",
    "    return str(n) == str(n)[::-1]\n",
    "\n",
    "# Generate a list of prime palindromic numbers using list comprehension\n",
    "prime_palindromes = [num for num in range(1, 1001) if is_prime(num) and is_palindrome(num)]\n",
    "\n",
    "# Print the list of prime palindromic numbers\n",
    "print(\"Prime palindromic numbers between 1 and 1000:\", prime_palindromes)\n"
   ]
  },
  {
   "cell_type": "code",
   "execution_count": null,
   "id": "60ce54cd-390e-447f-b501-0b4de3a36c75",
   "metadata": {},
   "outputs": [],
   "source": []
  }
 ],
 "metadata": {
  "kernelspec": {
   "display_name": "Python 3 (ipykernel)",
   "language": "python",
   "name": "python3"
  },
  "language_info": {
   "codemirror_mode": {
    "name": "ipython",
    "version": 3
   },
   "file_extension": ".py",
   "mimetype": "text/x-python",
   "name": "python",
   "nbconvert_exporter": "python",
   "pygments_lexer": "ipython3",
   "version": "3.10.8"
  }
 },
 "nbformat": 4,
 "nbformat_minor": 5
}
